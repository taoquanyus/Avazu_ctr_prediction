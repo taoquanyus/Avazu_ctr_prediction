{
 "cells": [
  {
   "cell_type": "code",
   "execution_count": 1,
   "id": "fd6bcf60",
   "metadata": {},
   "outputs": [],
   "source": [
    "import numpy as np # linear algebra\n",
    "import pandas as pd # data processing, CSV file I/O (e.g. pd.read_csv)\n",
    "\n",
    "# Input data files are available in the read-only \"../input/\" directory\n",
    "# For example, running this (by clicking run or pressing Shift+Enter) will list all files under the input directory\n",
    "\n",
    "import os\n",
    "for dirname, _, filenames in os.walk('/kaggle/input'):\n",
    "    for filename in filenames:\n",
    "        print(os.path.join(dirname, filename))\n",
    "\n",
    "# You can write up to 5GB to the current directory (/kaggle/working/) that gets preserved as output when you create a version using \"Save & Run All\" \n",
    "# You can also write temporary files to /kaggle/temp/, but they won't be saved outside of the current session\n",
    "\n",
    "from matplotlib import pyplot as plt\n",
    "import seaborn as sns\n",
    "import gzip\n",
    "\n",
    "test_file = './input/avazu-ctr-prediction/test.gz'\n",
    "samplesubmision_file = './input/avazu-ctr-prediction/sampleSubmission.gz'"
   ]
  },
  {
   "cell_type": "markdown",
   "id": "5fcd0ced",
   "metadata": {},
   "source": [
    "## 分块\n",
    "使用chunk分块，把处理不过来的数据采样，相当于均匀采样0.05的数据进行分析"
   ]
  },
  {
   "cell_type": "code",
   "execution_count": 2,
   "id": "8121a032",
   "metadata": {},
   "outputs": [
    {
     "name": "stdout",
     "output_type": "stream",
     "text": [
      "Processing Chunk No. 1\n",
      "Processing Chunk No. 2\n",
      "Processing Chunk No. 3\n",
      "Processing Chunk No. 4\n",
      "Processing Chunk No. 5\n",
      "Processing Chunk No. 6\n",
      "Processing Chunk No. 7\n",
      "Processing Chunk No. 8\n",
      "Processing Chunk No. 9\n",
      "Processing Chunk No. 10\n",
      "Processing Chunk No. 11\n",
      "Processing Chunk No. 12\n",
      "Processing Chunk No. 13\n",
      "Processing Chunk No. 14\n",
      "Processing Chunk No. 15\n",
      "Processing Chunk No. 16\n",
      "Processing Chunk No. 17\n",
      "Processing Chunk No. 18\n",
      "Processing Chunk No. 19\n",
      "Processing Chunk No. 20\n",
      "Processing Chunk No. 21\n",
      "Processing Chunk No. 22\n",
      "Processing Chunk No. 23\n",
      "Processing Chunk No. 24\n",
      "Processing Chunk No. 25\n",
      "Processing Chunk No. 26\n",
      "Processing Chunk No. 27\n",
      "Processing Chunk No. 28\n",
      "Processing Chunk No. 29\n",
      "Processing Chunk No. 30\n",
      "Processing Chunk No. 31\n",
      "Processing Chunk No. 32\n",
      "Processing Chunk No. 33\n",
      "Processing Chunk No. 34\n",
      "Processing Chunk No. 35\n",
      "Processing Chunk No. 36\n",
      "Processing Chunk No. 37\n",
      "Processing Chunk No. 38\n",
      "Processing Chunk No. 39\n",
      "Processing Chunk No. 40\n",
      "Processing Chunk No. 41\n"
     ]
    },
    {
     "data": {
      "text/plain": [
       "2021448"
      ]
     },
     "execution_count": 2,
     "metadata": {},
     "output_type": "execute_result"
    }
   ],
   "source": [
    "chunksize = 10 ** 6\n",
    "num_of_chunk = 0\n",
    "train = pd.DataFrame()\n",
    "    \n",
    "for chunk in pd.read_csv('./input/avazu-ctr-prediction/train.csv', chunksize=chunksize):\n",
    "    num_of_chunk += 1\n",
    "    train = pd.concat([train, chunk.sample(frac=.05, replace=False, random_state=123)], axis=0)\n",
    "    print('Processing Chunk No. ' + str(num_of_chunk))     \n",
    "    \n",
    "train.reset_index(inplace=True)\n",
    "\n",
    "#记录train的长度\n",
    "train_len = len(train)\n",
    "train_len"
   ]
  },
  {
   "cell_type": "markdown",
   "id": "8245a347",
   "metadata": {},
   "source": [
    "把test file也读进来，并和train file一起拼接在一起"
   ]
  },
  {
   "cell_type": "code",
   "execution_count": 3,
   "id": "3b25c829",
   "metadata": {},
   "outputs": [],
   "source": [
    "df = pd.concat([train, pd.read_csv(test_file, compression='gzip')]).drop(['index', 'id'], axis=1)"
   ]
  },
  {
   "cell_type": "markdown",
   "id": "56b78828",
   "metadata": {},
   "source": [
    "把日期转化为weekday"
   ]
  },
  {
   "cell_type": "code",
   "execution_count": 4,
   "id": "c3cd7cb6",
   "metadata": {},
   "outputs": [],
   "source": [
    "def get_date(hour):\n",
    "    y = '20'+str(hour)[:2]\n",
    "    m = str(hour)[2:4]\n",
    "    d = str(hour)[4:6]\n",
    "    return y+'-'+m+'-'+d\n",
    "\n",
    "df['weekday'] = pd.to_datetime(df.hour.apply(get_date)).dt.dayofweek.astype(str)\n",
    "\n",
    "# 把hour转换为时间段\n",
    "def tran_hour(x):\n",
    "    x = x % 100\n",
    "    while x in [23,0]:\n",
    "        return '23-01'\n",
    "    while x in [1,2]:\n",
    "        return '01-03'\n",
    "    while x in [3,4]:\n",
    "        return '03-05'\n",
    "    while x in [5,6]:\n",
    "        return '05-07'\n",
    "    while x in [7,8]:\n",
    "        return '07-09'\n",
    "    while x in [9,10]:\n",
    "        return '09-11'\n",
    "    while x in [11,12]:\n",
    "        return '11-13'\n",
    "    while x in [13,14]:\n",
    "        return '13-15'\n",
    "    while x in [15,16]:\n",
    "        return '15-17'\n",
    "    while x in [17,18]:\n",
    "        return '17-19'\n",
    "    while x in [19,20]:\n",
    "        return '19-21'\n",
    "    while x in [21,22]:\n",
    "        return '21-23'\n",
    "\n",
    "# 把hour转换为时间段\n",
    "df['hour'] = df.hour.apply(tran_hour)"
   ]
  },
  {
   "cell_type": "code",
   "execution_count": 5,
   "id": "48bdc47e",
   "metadata": {},
   "outputs": [
    {
     "name": "stdout",
     "output_type": "stream",
     "text": [
      "<class 'pandas.core.frame.DataFrame'>\n",
      "Int64Index: 6598912 entries, 0 to 4577463\n",
      "Data columns (total 24 columns):\n",
      " #   Column            Dtype  \n",
      "---  ------            -----  \n",
      " 0   click             float64\n",
      " 1   hour              object \n",
      " 2   C1                int64  \n",
      " 3   banner_pos        int64  \n",
      " 4   site_id           object \n",
      " 5   site_domain       object \n",
      " 6   site_category     object \n",
      " 7   app_id            object \n",
      " 8   app_domain        object \n",
      " 9   app_category      object \n",
      " 10  device_id         object \n",
      " 11  device_ip         object \n",
      " 12  device_model      object \n",
      " 13  device_type       int64  \n",
      " 14  device_conn_type  int64  \n",
      " 15  C14               int64  \n",
      " 16  C15               int64  \n",
      " 17  C16               int64  \n",
      " 18  C17               int64  \n",
      " 19  C18               int64  \n",
      " 20  C19               int64  \n",
      " 21  C20               int64  \n",
      " 22  C21               int64  \n",
      " 23  weekday           object \n",
      "dtypes: float64(1), int64(12), object(11)\n",
      "memory usage: 1.2+ GB\n"
     ]
    }
   ],
   "source": [
    "# 确认资料类别\n",
    "df.info()"
   ]
  },
  {
   "cell_type": "markdown",
   "id": "60066e09",
   "metadata": {},
   "source": [
    "统计每个特征的value_count,发现即便是int类型的变量，其value count的数目也仅为4333，可认定所有的资料集都是object类型的"
   ]
  },
  {
   "cell_type": "code",
   "execution_count": 6,
   "id": "824c7dc4",
   "metadata": {},
   "outputs": [
    {
     "name": "stdout",
     "output_type": "stream",
     "text": [
      "C1 : 7\n",
      "banner_pos : 7\n",
      "site_id : 3496\n",
      "site_domain : 4333\n",
      "site_category : 24\n",
      "app_id : 5466\n",
      "app_domain : 319\n",
      "app_category : 31\n",
      "device_id : 552856\n",
      "device_ip : 1875405\n",
      "device_model : 6321\n",
      "device_type : 5\n",
      "device_conn_type : 4\n",
      "C14 : 2662\n",
      "C15 : 8\n",
      "C16 : 9\n",
      "C17 : 470\n",
      "C18 : 4\n",
      "C19 : 68\n",
      "C20 : 169\n",
      "C21 : 62\n"
     ]
    }
   ],
   "source": [
    "len_of_feature_count = []\n",
    "for i in df.columns[2:23].tolist():\n",
    "    print(i, ':', len(df[i].astype(str).value_counts()))\n",
    "    len_of_feature_count.append(len(df[i].astype(str).value_counts()))"
   ]
  },
  {
   "cell_type": "code",
   "execution_count": 7,
   "id": "74703d9f",
   "metadata": {},
   "outputs": [],
   "source": [
    "# 建一个list，把需要转换成str的特征都装进去，方便下一步操作\n",
    "need_tran_feature = df.columns[2:4].tolist() + df.columns[13:23].tolist()\n",
    "\n",
    "# 把所有的特征变成string\n",
    "for i in need_tran_feature:\n",
    "    df[i] = df[i].astype(str)"
   ]
  },
  {
   "cell_type": "markdown",
   "id": "ed51c2c7",
   "metadata": {},
   "source": [
    "一些特征的value count極高，此时如果用one-hot编码，会造成维度崩溃。在此将每个特征的维度的value count的上限设为10，如果超过十个，则使用下文缩减的方法。\n",
    "\n",
    "缩减的方式：\n",
    "计算value所有值的点击率，依据点击率分为 very_high, higher, mid, lower, very_low，等5个级距。"
   ]
  },
  {
   "cell_type": "code",
   "execution_count": 8,
   "id": "97e507f6",
   "metadata": {},
   "outputs": [
    {
     "data": {
      "text/plain": [
       "['site_id',\n",
       " 'site_domain',\n",
       " 'site_category',\n",
       " 'app_id',\n",
       " 'app_domain',\n",
       " 'app_category',\n",
       " 'device_id',\n",
       " 'device_ip',\n",
       " 'device_model',\n",
       " 'C14',\n",
       " 'C17',\n",
       " 'C19',\n",
       " 'C20',\n",
       " 'C21']"
      ]
     },
     "execution_count": 8,
     "metadata": {},
     "output_type": "execute_result"
    }
   ],
   "source": [
    "obj_features = []\n",
    "\n",
    "for i in range(len(len_of_feature_count)):\n",
    "    if len_of_feature_count[i] > 10:\n",
    "        obj_features.append(df.columns[2:23].tolist()[i])\n",
    "obj_features"
   ]
  },
  {
   "cell_type": "code",
   "execution_count": 9,
   "id": "e1a8028e",
   "metadata": {},
   "outputs": [
    {
     "data": {
      "text/html": [
       "<div>\n",
       "<style scoped>\n",
       "    .dataframe tbody tr th:only-of-type {\n",
       "        vertical-align: middle;\n",
       "    }\n",
       "\n",
       "    .dataframe tbody tr th {\n",
       "        vertical-align: top;\n",
       "    }\n",
       "\n",
       "    .dataframe thead th {\n",
       "        text-align: right;\n",
       "    }\n",
       "</style>\n",
       "<table border=\"1\" class=\"dataframe\">\n",
       "  <thead>\n",
       "    <tr style=\"text-align: right;\">\n",
       "      <th></th>\n",
       "      <th>click</th>\n",
       "    </tr>\n",
       "  </thead>\n",
       "  <tbody>\n",
       "    <tr>\n",
       "      <th>count</th>\n",
       "      <td>2.021448e+06</td>\n",
       "    </tr>\n",
       "    <tr>\n",
       "      <th>mean</th>\n",
       "      <td>1.700731e-01</td>\n",
       "    </tr>\n",
       "    <tr>\n",
       "      <th>std</th>\n",
       "      <td>3.756971e-01</td>\n",
       "    </tr>\n",
       "    <tr>\n",
       "      <th>min</th>\n",
       "      <td>0.000000e+00</td>\n",
       "    </tr>\n",
       "    <tr>\n",
       "      <th>25%</th>\n",
       "      <td>0.000000e+00</td>\n",
       "    </tr>\n",
       "    <tr>\n",
       "      <th>50%</th>\n",
       "      <td>0.000000e+00</td>\n",
       "    </tr>\n",
       "    <tr>\n",
       "      <th>75%</th>\n",
       "      <td>0.000000e+00</td>\n",
       "    </tr>\n",
       "    <tr>\n",
       "      <th>max</th>\n",
       "      <td>1.000000e+00</td>\n",
       "    </tr>\n",
       "  </tbody>\n",
       "</table>\n",
       "</div>"
      ],
      "text/plain": [
       "              click\n",
       "count  2.021448e+06\n",
       "mean   1.700731e-01\n",
       "std    3.756971e-01\n",
       "min    0.000000e+00\n",
       "25%    0.000000e+00\n",
       "50%    0.000000e+00\n",
       "75%    0.000000e+00\n",
       "max    1.000000e+00"
      ]
     },
     "execution_count": 9,
     "metadata": {},
     "output_type": "execute_result"
    }
   ],
   "source": [
    "df_describe = df.describe()\n",
    "df_describe"
   ]
  },
  {
   "cell_type": "code",
   "execution_count": 25,
   "id": "f94280ff",
   "metadata": {},
   "outputs": [
    {
     "name": "stdout",
     "output_type": "stream",
     "text": [
      "Run:  site_id\n",
      "Run:  site_domain\n",
      "Run:  site_category\n",
      "Run:  app_id\n",
      "Run:  app_domain\n",
      "Run:  app_category\n",
      "Run:  device_id\n",
      "Run:  device_ip\n",
      "Run:  device_model\n",
      "Run:  C14\n",
      "Run:  C17\n",
      "Run:  C19\n",
      "Run:  C20\n",
      "Run:  C21\n"
     ]
    },
    {
     "data": {
      "text/html": [
       "<div>\n",
       "<style scoped>\n",
       "    .dataframe tbody tr th:only-of-type {\n",
       "        vertical-align: middle;\n",
       "    }\n",
       "\n",
       "    .dataframe tbody tr th {\n",
       "        vertical-align: top;\n",
       "    }\n",
       "\n",
       "    .dataframe thead th {\n",
       "        text-align: right;\n",
       "    }\n",
       "</style>\n",
       "<table border=\"1\" class=\"dataframe\">\n",
       "  <thead>\n",
       "    <tr style=\"text-align: right;\">\n",
       "      <th></th>\n",
       "      <th>click</th>\n",
       "      <th>hour</th>\n",
       "      <th>C1</th>\n",
       "      <th>banner_pos</th>\n",
       "      <th>site_id</th>\n",
       "      <th>site_domain</th>\n",
       "      <th>site_category</th>\n",
       "      <th>app_id</th>\n",
       "      <th>app_domain</th>\n",
       "      <th>app_category</th>\n",
       "      <th>...</th>\n",
       "      <th>device_conn_type</th>\n",
       "      <th>C14</th>\n",
       "      <th>C15</th>\n",
       "      <th>C16</th>\n",
       "      <th>C17</th>\n",
       "      <th>C18</th>\n",
       "      <th>C19</th>\n",
       "      <th>C20</th>\n",
       "      <th>C21</th>\n",
       "      <th>weekday</th>\n",
       "    </tr>\n",
       "  </thead>\n",
       "  <tbody>\n",
       "    <tr>\n",
       "      <th>0</th>\n",
       "      <td>1.0</td>\n",
       "      <td>01-03</td>\n",
       "      <td>1005</td>\n",
       "      <td>1</td>\n",
       "      <td>very_high</td>\n",
       "      <td>very_high</td>\n",
       "      <td>mid</td>\n",
       "      <td>higher</td>\n",
       "      <td>higher</td>\n",
       "      <td>higher</td>\n",
       "      <td>...</td>\n",
       "      <td>0</td>\n",
       "      <td>mid</td>\n",
       "      <td>320</td>\n",
       "      <td>50</td>\n",
       "      <td>mid</td>\n",
       "      <td>2</td>\n",
       "      <td>mid</td>\n",
       "      <td>mid</td>\n",
       "      <td>mid</td>\n",
       "      <td>1</td>\n",
       "    </tr>\n",
       "    <tr>\n",
       "      <th>1</th>\n",
       "      <td>0.0</td>\n",
       "      <td>01-03</td>\n",
       "      <td>1005</td>\n",
       "      <td>0</td>\n",
       "      <td>higher</td>\n",
       "      <td>higher</td>\n",
       "      <td>higher</td>\n",
       "      <td>higher</td>\n",
       "      <td>higher</td>\n",
       "      <td>higher</td>\n",
       "      <td>...</td>\n",
       "      <td>0</td>\n",
       "      <td>mid</td>\n",
       "      <td>320</td>\n",
       "      <td>50</td>\n",
       "      <td>mid</td>\n",
       "      <td>0</td>\n",
       "      <td>mid</td>\n",
       "      <td>mid</td>\n",
       "      <td>mid</td>\n",
       "      <td>1</td>\n",
       "    </tr>\n",
       "    <tr>\n",
       "      <th>2</th>\n",
       "      <td>0.0</td>\n",
       "      <td>01-03</td>\n",
       "      <td>1005</td>\n",
       "      <td>0</td>\n",
       "      <td>higher</td>\n",
       "      <td>higher</td>\n",
       "      <td>higher</td>\n",
       "      <td>higher</td>\n",
       "      <td>higher</td>\n",
       "      <td>higher</td>\n",
       "      <td>...</td>\n",
       "      <td>0</td>\n",
       "      <td>mid</td>\n",
       "      <td>320</td>\n",
       "      <td>50</td>\n",
       "      <td>mid</td>\n",
       "      <td>0</td>\n",
       "      <td>mid</td>\n",
       "      <td>mid</td>\n",
       "      <td>mid</td>\n",
       "      <td>1</td>\n",
       "    </tr>\n",
       "    <tr>\n",
       "      <th>3</th>\n",
       "      <td>0.0</td>\n",
       "      <td>03-05</td>\n",
       "      <td>1005</td>\n",
       "      <td>1</td>\n",
       "      <td>very_low</td>\n",
       "      <td>very_low</td>\n",
       "      <td>mid</td>\n",
       "      <td>higher</td>\n",
       "      <td>higher</td>\n",
       "      <td>higher</td>\n",
       "      <td>...</td>\n",
       "      <td>0</td>\n",
       "      <td>mid</td>\n",
       "      <td>320</td>\n",
       "      <td>50</td>\n",
       "      <td>mid</td>\n",
       "      <td>3</td>\n",
       "      <td>mid</td>\n",
       "      <td>mid</td>\n",
       "      <td>mid</td>\n",
       "      <td>1</td>\n",
       "    </tr>\n",
       "    <tr>\n",
       "      <th>4</th>\n",
       "      <td>0.0</td>\n",
       "      <td>01-03</td>\n",
       "      <td>1005</td>\n",
       "      <td>0</td>\n",
       "      <td>higher</td>\n",
       "      <td>higher</td>\n",
       "      <td>higher</td>\n",
       "      <td>higher</td>\n",
       "      <td>higher</td>\n",
       "      <td>higher</td>\n",
       "      <td>...</td>\n",
       "      <td>0</td>\n",
       "      <td>mid</td>\n",
       "      <td>320</td>\n",
       "      <td>50</td>\n",
       "      <td>mid</td>\n",
       "      <td>0</td>\n",
       "      <td>mid</td>\n",
       "      <td>mid</td>\n",
       "      <td>mid</td>\n",
       "      <td>1</td>\n",
       "    </tr>\n",
       "    <tr>\n",
       "      <th>...</th>\n",
       "      <td>...</td>\n",
       "      <td>...</td>\n",
       "      <td>...</td>\n",
       "      <td>...</td>\n",
       "      <td>...</td>\n",
       "      <td>...</td>\n",
       "      <td>...</td>\n",
       "      <td>...</td>\n",
       "      <td>...</td>\n",
       "      <td>...</td>\n",
       "      <td>...</td>\n",
       "      <td>...</td>\n",
       "      <td>...</td>\n",
       "      <td>...</td>\n",
       "      <td>...</td>\n",
       "      <td>...</td>\n",
       "      <td>...</td>\n",
       "      <td>...</td>\n",
       "      <td>...</td>\n",
       "      <td>...</td>\n",
       "      <td>...</td>\n",
       "    </tr>\n",
       "    <tr>\n",
       "      <th>4577459</th>\n",
       "      <td>NaN</td>\n",
       "      <td>23-01</td>\n",
       "      <td>1005</td>\n",
       "      <td>0</td>\n",
       "      <td>very_high</td>\n",
       "      <td>very_high</td>\n",
       "      <td>very_high</td>\n",
       "      <td>higher</td>\n",
       "      <td>higher</td>\n",
       "      <td>higher</td>\n",
       "      <td>...</td>\n",
       "      <td>0</td>\n",
       "      <td>mid</td>\n",
       "      <td>300</td>\n",
       "      <td>250</td>\n",
       "      <td>mid</td>\n",
       "      <td>2</td>\n",
       "      <td>mid</td>\n",
       "      <td>mid</td>\n",
       "      <td>mid</td>\n",
       "      <td>4</td>\n",
       "    </tr>\n",
       "    <tr>\n",
       "      <th>4577460</th>\n",
       "      <td>NaN</td>\n",
       "      <td>23-01</td>\n",
       "      <td>1005</td>\n",
       "      <td>0</td>\n",
       "      <td>mid</td>\n",
       "      <td>higher</td>\n",
       "      <td>mid</td>\n",
       "      <td>higher</td>\n",
       "      <td>higher</td>\n",
       "      <td>higher</td>\n",
       "      <td>...</td>\n",
       "      <td>0</td>\n",
       "      <td>mid</td>\n",
       "      <td>320</td>\n",
       "      <td>50</td>\n",
       "      <td>mid</td>\n",
       "      <td>0</td>\n",
       "      <td>mid</td>\n",
       "      <td>mid</td>\n",
       "      <td>mid</td>\n",
       "      <td>4</td>\n",
       "    </tr>\n",
       "    <tr>\n",
       "      <th>4577461</th>\n",
       "      <td>NaN</td>\n",
       "      <td>23-01</td>\n",
       "      <td>1005</td>\n",
       "      <td>0</td>\n",
       "      <td>very_high</td>\n",
       "      <td>very_high</td>\n",
       "      <td>very_high</td>\n",
       "      <td>higher</td>\n",
       "      <td>higher</td>\n",
       "      <td>higher</td>\n",
       "      <td>...</td>\n",
       "      <td>0</td>\n",
       "      <td>mid</td>\n",
       "      <td>300</td>\n",
       "      <td>250</td>\n",
       "      <td>mid</td>\n",
       "      <td>2</td>\n",
       "      <td>mid</td>\n",
       "      <td>mid</td>\n",
       "      <td>mid</td>\n",
       "      <td>4</td>\n",
       "    </tr>\n",
       "    <tr>\n",
       "      <th>4577462</th>\n",
       "      <td>NaN</td>\n",
       "      <td>23-01</td>\n",
       "      <td>1005</td>\n",
       "      <td>0</td>\n",
       "      <td>very_low</td>\n",
       "      <td>very_low</td>\n",
       "      <td>very_low</td>\n",
       "      <td>very_low</td>\n",
       "      <td>very_low</td>\n",
       "      <td>very_low</td>\n",
       "      <td>...</td>\n",
       "      <td>3</td>\n",
       "      <td>mid</td>\n",
       "      <td>320</td>\n",
       "      <td>50</td>\n",
       "      <td>mid</td>\n",
       "      <td>1</td>\n",
       "      <td>mid</td>\n",
       "      <td>mid</td>\n",
       "      <td>mid</td>\n",
       "      <td>4</td>\n",
       "    </tr>\n",
       "    <tr>\n",
       "      <th>4577463</th>\n",
       "      <td>NaN</td>\n",
       "      <td>23-01</td>\n",
       "      <td>1005</td>\n",
       "      <td>0</td>\n",
       "      <td>mid</td>\n",
       "      <td>higher</td>\n",
       "      <td>mid</td>\n",
       "      <td>higher</td>\n",
       "      <td>higher</td>\n",
       "      <td>higher</td>\n",
       "      <td>...</td>\n",
       "      <td>0</td>\n",
       "      <td>mid</td>\n",
       "      <td>320</td>\n",
       "      <td>50</td>\n",
       "      <td>mid</td>\n",
       "      <td>0</td>\n",
       "      <td>mid</td>\n",
       "      <td>mid</td>\n",
       "      <td>mid</td>\n",
       "      <td>4</td>\n",
       "    </tr>\n",
       "  </tbody>\n",
       "</table>\n",
       "<p>6598912 rows × 24 columns</p>\n",
       "</div>"
      ],
      "text/plain": [
       "         click   hour    C1 banner_pos    site_id site_domain site_category  \\\n",
       "0          1.0  01-03  1005          1  very_high   very_high           mid   \n",
       "1          0.0  01-03  1005          0     higher      higher        higher   \n",
       "2          0.0  01-03  1005          0     higher      higher        higher   \n",
       "3          0.0  03-05  1005          1   very_low    very_low           mid   \n",
       "4          0.0  01-03  1005          0     higher      higher        higher   \n",
       "...        ...    ...   ...        ...        ...         ...           ...   \n",
       "4577459    NaN  23-01  1005          0  very_high   very_high     very_high   \n",
       "4577460    NaN  23-01  1005          0        mid      higher           mid   \n",
       "4577461    NaN  23-01  1005          0  very_high   very_high     very_high   \n",
       "4577462    NaN  23-01  1005          0   very_low    very_low      very_low   \n",
       "4577463    NaN  23-01  1005          0        mid      higher           mid   \n",
       "\n",
       "           app_id app_domain app_category  ... device_conn_type  C14  C15  \\\n",
       "0          higher     higher       higher  ...                0  mid  320   \n",
       "1          higher     higher       higher  ...                0  mid  320   \n",
       "2          higher     higher       higher  ...                0  mid  320   \n",
       "3          higher     higher       higher  ...                0  mid  320   \n",
       "4          higher     higher       higher  ...                0  mid  320   \n",
       "...           ...        ...          ...  ...              ...  ...  ...   \n",
       "4577459    higher     higher       higher  ...                0  mid  300   \n",
       "4577460    higher     higher       higher  ...                0  mid  320   \n",
       "4577461    higher     higher       higher  ...                0  mid  300   \n",
       "4577462  very_low   very_low     very_low  ...                3  mid  320   \n",
       "4577463    higher     higher       higher  ...                0  mid  320   \n",
       "\n",
       "         C16  C17 C18  C19  C20  C21 weekday  \n",
       "0         50  mid   2  mid  mid  mid       1  \n",
       "1         50  mid   0  mid  mid  mid       1  \n",
       "2         50  mid   0  mid  mid  mid       1  \n",
       "3         50  mid   3  mid  mid  mid       1  \n",
       "4         50  mid   0  mid  mid  mid       1  \n",
       "...      ...  ...  ..  ...  ...  ...     ...  \n",
       "4577459  250  mid   2  mid  mid  mid       4  \n",
       "4577460   50  mid   0  mid  mid  mid       4  \n",
       "4577461  250  mid   2  mid  mid  mid       4  \n",
       "4577462   50  mid   1  mid  mid  mid       4  \n",
       "4577463   50  mid   0  mid  mid  mid       4  \n",
       "\n",
       "[6598912 rows x 24 columns]"
      ]
     },
     "execution_count": 25,
     "metadata": {},
     "output_type": "execute_result"
    }
   ],
   "source": [
    "def obj_clean(X):\n",
    "\n",
    "    def get_click_rate(x):\n",
    "        temp = train[train[X.columns[0]] == x]   #这里columns[0]，注意是大X（特征），x是特征的类型\n",
    "        res = round((temp.click.sum() / temp.click.count()),3)   #这里\n",
    "        return res\n",
    "    \n",
    "    def get_type(V, str):\n",
    "        very_high = df_describe.loc['mean','click'] + 0.04\n",
    "        higher = df_describe.loc['mean','click'] + 0.02\n",
    "        lower = df_describe.loc['mean','click'] - 0.02\n",
    "        very_low = df_describe.loc['mean','click'] - 0.04\n",
    "    \n",
    "        vh_type = V[V[str] > very_high].index.tolist()\n",
    "        hr_type = V[(V[str] > higher) & (V[str] < very_high)].index.tolist()\n",
    "        vl_type = V[V[str] < very_low].index.tolist()\n",
    "        lr_type = V[(V[str] < lower) & (V[str] > very_low)].index.tolist()\n",
    "    \n",
    "        return vh_type, hr_type, vl_type, lr_type\n",
    "\n",
    "    def clean_function(x):\n",
    "# 判断依据：\n",
    "#         +4%：very high \n",
    "#         +2%: higher  \n",
    "#         -2%: low\n",
    "#         -4%  very low\n",
    "        while x in type_[0]:\n",
    "            return 'very_high'\n",
    "        while x in type_[1]:\n",
    "            return 'higher'\n",
    "        while x in type_[2]:\n",
    "            return 'very_low'\n",
    "        while x in type_[3]:\n",
    "            return 'lower'\n",
    "        return 'mid'\n",
    "        \n",
    "    print('Run: ', X.columns[0])\n",
    "    fq = X[X.columns[0]].value_counts()\n",
    "    # 建立一个暂存的资料列表\n",
    "    # 舍弃frequency低于排名前1000 row的feature。\n",
    "    if len(fq) > 1000:\n",
    "        fq = fq[:1000]\n",
    "\n",
    "    fq = pd.DataFrame(fq)\n",
    "    fq['new_column'] = fq.index    \n",
    "\n",
    "    # 使用index叫用get_click_rate function\n",
    "    fq['click_rate'] = fq.new_column.apply(get_click_rate)\n",
    "\n",
    "    type_ = get_type(fq, 'click_rate')\n",
    "\n",
    "    return X[X.columns[0]].apply(clean_function)\n",
    "\n",
    "for i in obj_features:\n",
    "\n",
    "    df[[i]] = obj_clean(df[[i]]).to_frame()\n",
    "\n",
    "df"
   ]
  },
  {
   "cell_type": "code",
   "execution_count": 26,
   "id": "d95d25d1",
   "metadata": {},
   "outputs": [
    {
     "data": {
      "image/png": "[encoded data removed]",
      "text/plain": [
       "<Figure size 432x288 with 1 Axes>"
      ]
     },
     "metadata": {
      "needs_background": "light"
     },
     "output_type": "display_data"
    },
    {
     "data": {
      "image/png": "[encoded data removed]",
      "text/plain": [
       "<Figure size 432x288 with 1 Axes>"
      ]
     },
     "metadata": {
      "needs_background": "light"
     },
     "output_type": "display_data"
    },
    {
     "data": {
      "image/png": "[encoded data removed]",
      "text/plain": [
       "<Figure size 432x288 with 1 Axes>"
      ]
     },
     "metadata": {
      "needs_background": "light"
     },
     "output_type": "display_data"
    },
    {
     "data": {
      "image/png": "[encoded data removed]",
      "text/plain": [
       "<Figure size 432x288 with 1 Axes>"
      ]
     },
     "metadata": {
      "needs_background": "light"
     },
     "output_type": "display_data"
    },
    {
     "data": {
      "image/png": "[encoded data removed]",
      "text/plain": [
       "<Figure size 432x288 with 1 Axes>"
      ]
     },
     "metadata": {
      "needs_background": "light"
     },
     "output_type": "display_data"
    },
    {
     "data": {
      "image/png": "[encoded data removed]",
      "text/plain": [
       "<Figure size 432x288 with 1 Axes>"
      ]
     },
     "metadata": {
      "needs_background": "light"
     },
     "output_type": "display_data"
    },
    {
     "data": {
      "image/png": "[encoded data removed]",
      "text/plain": [
       "<Figure size 432x288 with 1 Axes>"
      ]
     },
     "metadata": {
      "needs_background": "light"
     },
     "output_type": "display_data"
    },
    {
     "data": {
      "image/png": "[encoded data removed]",
      "text/plain": [
       "<Figure size 432x288 with 1 Axes>"
      ]
     },
     "metadata": {
      "needs_background": "light"
     },
     "output_type": "display_data"
    },
    {
     "data": {
      "image/png": "[encoded data removed]",
      "text/plain": [
       "<Figure size 432x288 with 1 Axes>"
      ]
     },
     "metadata": {
      "needs_background": "light"
     },
     "output_type": "display_data"
    },
    {
     "data": {
      "image/png": "[encoded data removed]",
      "text/plain": [
       "<Figure size 432x288 with 1 Axes>"
      ]
     },
     "metadata": {
      "needs_background": "light"
     },
     "output_type": "display_data"
    },
    {
     "data": {
      "image/png": "[encoded data removed]",
      "text/plain": [
       "<Figure size 432x288 with 1 Axes>"
      ]
     },
     "metadata": {
      "needs_background": "light"
     },
     "output_type": "display_data"
    },
    {
     "data": {
      "image/png": "[encoded data removed]",
      "text/plain": [
       "<Figure size 432x288 with 1 Axes>"
      ]
     },
     "metadata": {
      "needs_background": "light"
     },
     "output_type": "display_data"
    },
    {
     "data": {
      "image/png": "[encoded data removed]",
      "text/plain": [
       "<Figure size 432x288 with 1 Axes>"
      ]
     },
     "metadata": {
      "needs_background": "light"
     },
     "output_type": "display_data"
    },
    {
     "data": {
      "image/png": "[encoded data removed]",
      "text/plain": [
       "<Figure size 432x288 with 1 Axes>"
      ]
     },
     "metadata": {
      "needs_background": "light"
     },
     "output_type": "display_data"
    },
    {
     "data": {
      "image/png": "[encoded data removed]",
      "text/plain": [
       "<Figure size 432x288 with 1 Axes>"
      ]
     },
     "metadata": {
      "needs_background": "light"
     },
     "output_type": "display_data"
    },
    {
     "data": {
      "image/png": "[encoded data removed]",
      "text/plain": [
       "<Figure size 432x288 with 1 Axes>"
      ]
     },
     "metadata": {
      "needs_background": "light"
     },
     "output_type": "display_data"
    },
    {
     "data": {
      "image/png": "[encoded data removed]",
      "text/plain": [
       "<Figure size 432x288 with 1 Axes>"
      ]
     },
     "metadata": {
      "needs_background": "light"
     },
     "output_type": "display_data"
    },
    {
     "data": {
      "image/png": "[encoded data removed]",
      "text/plain": [
       "<Figure size 432x288 with 1 Axes>"
      ]
     },
     "metadata": {
      "needs_background": "light"
     },
     "output_type": "display_data"
    },
    {
     "data": {
      "image/png": "[encoded data removed]",
      "text/plain": [
       "<Figure size 432x288 with 1 Axes>"
      ]
     },
     "metadata": {
      "needs_background": "light"
     },
     "output_type": "display_data"
    },
    {
     "data": {
      "image/png": "[encoded data removed]",
      "text/plain": [
       "<Figure size 432x288 with 1 Axes>"
      ]
     },
     "metadata": {
      "needs_background": "light"
     },
     "output_type": "display_data"
    },
    {
     "data": {
      "image/png": "[encoded data removed]",
      "text/plain": [
       "<Figure size 432x288 with 1 Axes>"
      ]
     },
     "metadata": {
      "needs_background": "light"
     },
     "output_type": "display_data"
    },
    {
     "data": {
      "image/png": "[encoded data removed]",
      "text/plain": [
       "<Figure size 432x288 with 1 Axes>"
      ]
     },
     "metadata": {
      "needs_background": "light"
     },
     "output_type": "display_data"
    },
    {
     "data": {
      "image/png": "[encoded data removed]",
      "text/plain": [
       "<Figure size 432x288 with 1 Axes>"
      ]
     },
     "metadata": {
      "needs_background": "light"
     },
     "output_type": "display_data"
    },
    {
     "data": {
      "image/png": "[encoded data removed]",
      "text/plain": [
       "<Figure size 432x288 with 1 Axes>"
      ]
     },
     "metadata": {
      "needs_background": "light"
     },
     "output_type": "display_data"
    }
   ],
   "source": [
    "# 查看所有的特征分布\n",
    "for i in df.columns:\n",
    "    sns.countplot(x = i, hue = \"click\", data = df)\n",
    "    plt.show()"
   ]
  },
  {
   "cell_type": "code",
   "execution_count": 27,
   "id": "a5d43103",
   "metadata": {},
   "outputs": [],
   "source": [
    "df.drop(['device_id', 'C14', 'C17', 'C19', 'C20', 'C21'], axis=1, inplace=True)"
   ]
  },
  {
   "cell_type": "code",
   "execution_count": 28,
   "id": "630d7579",
   "metadata": {},
   "outputs": [],
   "source": [
    "# one-hot编码\n",
    "df = pd.get_dummies(df)\n",
    "\n",
    "#重新將train, test分割出來\n",
    "train = df[:train_len]\n",
    "test = df[train_len:]"
   ]
  },
  {
   "cell_type": "code",
   "execution_count": 29,
   "id": "5f492d82",
   "metadata": {},
   "outputs": [],
   "source": [
    "# 取出特征工程后的数据\n",
    "\n",
    "train.to_csv('new_train.csv', index=False)\n",
    "test.to_csv('new_test.csv', index=False)"
   ]
  },
  {
   "cell_type": "code",
   "execution_count": 30,
   "id": "00652676",
   "metadata": {},
   "outputs": [],
   "source": [
    "# 读入数据\n",
    "train = pd.read_csv('new_train.csv')\n",
    "test = pd.read_csv('new_test.csv')"
   ]
  },
  {
   "cell_type": "code",
   "execution_count": 31,
   "id": "606eb7fa",
   "metadata": {},
   "outputs": [],
   "source": [
    "del df"
   ]
  },
  {
   "cell_type": "code",
   "execution_count": 32,
   "id": "31351114",
   "metadata": {},
   "outputs": [],
   "source": [
    "# 采样，使得label为0和1的数量相同\n",
    "pre_X = train[train['click'] == 0].sample(n=len(train[train['click'] == 1]), random_state=111)\n",
    "pre_X = pd.concat([pre_X, train[train['click'] == 1]]).sample(frac=1)\n",
    "pre_y = pre_X[['click']]\n",
    "pre_X.drop(['click'], axis=1, inplace=True)\n",
    "test.drop(['click'], axis=1, inplace=True)"
   ]
  },
  {
   "cell_type": "code",
   "execution_count": 33,
   "id": "f80f5979",
   "metadata": {},
   "outputs": [],
   "source": [
    "from sklearn.model_selection import GridSearchCV\n",
    "from sklearn.tree import DecisionTreeClassifier\n",
    "from sklearn.metrics import roc_auc_score\n",
    "from sklearn.metrics import confusion_matrix\n",
    "from sklearn.model_selection import train_test_split\n",
    "\n",
    "pre_X_train, pre_X_test, pre_y_train, pre_y_test = train_test_split(pre_X, pre_y, test_size=0.20, stratify=pre_y, random_state=1)"
   ]
  },
  {
   "cell_type": "code",
   "execution_count": 34,
   "id": "182110e4",
   "metadata": {},
   "outputs": [
    {
     "name": "stdout",
     "output_type": "stream",
     "text": [
      "Fitting 100 folds for each of 38 candidates, totalling 3800 fits\n"
     ]
    },
    {
     "data": {
      "text/plain": [
       "(0.7305385755505287,\n",
       " DecisionTreeClassifier(criterion='entropy', max_depth=11),\n",
       " {'criterion': 'entropy', 'max_depth': 11})"
      ]
     },
     "execution_count": 34,
     "metadata": {},
     "output_type": "execute_result"
    }
   ],
   "source": [
    "# Grid Search，建立100棵樹來取得最佳參數\n",
    "params = {\"criterion\":[\"gini\", \"entropy\"], \"max_depth\":range(1,20)}\n",
    "grid_search = GridSearchCV(DecisionTreeClassifier(), param_grid=params, scoring='roc_auc', cv=100, verbose=1, n_jobs=-1)\n",
    "grid_search.fit(pre_X_train, pre_y_train)\n",
    "grid_search.best_score_, grid_search.best_estimator_, grid_search.best_params_"
   ]
  },
  {
   "cell_type": "code",
   "execution_count": 35,
   "id": "ac4960a7",
   "metadata": {},
   "outputs": [
    {
     "data": {
      "text/html": [
       "<div>\n",
       "<style scoped>\n",
       "    .dataframe tbody tr th:only-of-type {\n",
       "        vertical-align: middle;\n",
       "    }\n",
       "\n",
       "    .dataframe tbody tr th {\n",
       "        vertical-align: top;\n",
       "    }\n",
       "\n",
       "    .dataframe thead th {\n",
       "        text-align: right;\n",
       "    }\n",
       "</style>\n",
       "<table border=\"1\" class=\"dataframe\">\n",
       "  <thead>\n",
       "    <tr style=\"text-align: right;\">\n",
       "      <th></th>\n",
       "      <th>0</th>\n",
       "    </tr>\n",
       "  </thead>\n",
       "  <tbody>\n",
       "    <tr>\n",
       "      <th>site_id_very_low</th>\n",
       "      <td>0.407153</td>\n",
       "    </tr>\n",
       "    <tr>\n",
       "      <th>app_id_very_high</th>\n",
       "      <td>0.167197</td>\n",
       "    </tr>\n",
       "    <tr>\n",
       "      <th>site_id_very_high</th>\n",
       "      <td>0.075670</td>\n",
       "    </tr>\n",
       "    <tr>\n",
       "      <th>app_id_very_low</th>\n",
       "      <td>0.064030</td>\n",
       "    </tr>\n",
       "    <tr>\n",
       "      <th>app_category_higher</th>\n",
       "      <td>0.063906</td>\n",
       "    </tr>\n",
       "    <tr>\n",
       "      <th>...</th>\n",
       "      <td>...</td>\n",
       "    </tr>\n",
       "    <tr>\n",
       "      <th>C16_768</th>\n",
       "      <td>0.000000</td>\n",
       "    </tr>\n",
       "    <tr>\n",
       "      <th>C15_768</th>\n",
       "      <td>0.000000</td>\n",
       "    </tr>\n",
       "    <tr>\n",
       "      <th>C16_1024</th>\n",
       "      <td>0.000000</td>\n",
       "    </tr>\n",
       "    <tr>\n",
       "      <th>C16_20</th>\n",
       "      <td>0.000000</td>\n",
       "    </tr>\n",
       "    <tr>\n",
       "      <th>C15_1024</th>\n",
       "      <td>0.000000</td>\n",
       "    </tr>\n",
       "  </tbody>\n",
       "</table>\n",
       "<p>103 rows × 1 columns</p>\n",
       "</div>"
      ],
      "text/plain": [
       "                            0\n",
       "site_id_very_low     0.407153\n",
       "app_id_very_high     0.167197\n",
       "site_id_very_high    0.075670\n",
       "app_id_very_low      0.064030\n",
       "app_category_higher  0.063906\n",
       "...                       ...\n",
       "C16_768              0.000000\n",
       "C15_768              0.000000\n",
       "C16_1024             0.000000\n",
       "C16_20               0.000000\n",
       "C15_1024             0.000000\n",
       "\n",
       "[103 rows x 1 columns]"
      ]
     },
     "execution_count": 35,
     "metadata": {},
     "output_type": "execute_result"
    }
   ],
   "source": [
    "# 依据决策树的结果建模并拟合\n",
    "tree = grid_search.best_estimator_\n",
    "tree.fit(pre_X,pre_y)\n",
    "\n",
    "# 输出特征的重要性排序\n",
    "feature_importances = pd.DataFrame(tree.feature_importances_)\n",
    "feature_importances.index = pre_X_train.columns\n",
    "feature_importances = feature_importances.sort_values(0,ascending=False)\n",
    "feature_importances"
   ]
  },
  {
   "cell_type": "code",
   "execution_count": 36,
   "id": "d80925c5",
   "metadata": {},
   "outputs": [],
   "source": [
    "# 取重要性前1/2的特征\n",
    "pre_X_train = pre_X_train[feature_importances.index[:int(len(feature_importances)/2)]]\n",
    "pre_X_test = pre_X_test[feature_importances.index[:int(len(feature_importances)/2)]]"
   ]
  },
  {
   "cell_type": "code",
   "execution_count": 37,
   "id": "42e13c75",
   "metadata": {},
   "outputs": [
    {
     "name": "stdout",
     "output_type": "stream",
     "text": [
      "Fitting 100 folds for each of 22 candidates, totalling 2200 fits\n"
     ]
    },
    {
     "data": {
      "text/plain": [
       "(0.7307040803773235,\n",
       " DecisionTreeClassifier(criterion='entropy', max_depth=11),\n",
       " {'criterion': 'entropy', 'max_depth': 11})"
      ]
     },
     "execution_count": 37,
     "metadata": {},
     "output_type": "execute_result"
    }
   ],
   "source": [
    "# 使用前50％的重要特征重新进行Grid Search\n",
    "params = {\"criterion\":[\"gini\", \"entropy\"], \"max_depth\":range(1,12)}\n",
    "grid_search = GridSearchCV(DecisionTreeClassifier(), param_grid=params, scoring='roc_auc', cv=100, verbose=1, n_jobs=-1)\n",
    "grid_search.fit(pre_X_train, pre_y_train)\n",
    "grid_search.best_score_, grid_search.best_estimator_, grid_search.best_params_"
   ]
  },
  {
   "cell_type": "code",
   "execution_count": 38,
   "id": "c19b3306",
   "metadata": {},
   "outputs": [
    {
     "data": {
      "text/html": [
       "<div>\n",
       "<style scoped>\n",
       "    .dataframe tbody tr th:only-of-type {\n",
       "        vertical-align: middle;\n",
       "    }\n",
       "\n",
       "    .dataframe tbody tr th {\n",
       "        vertical-align: top;\n",
       "    }\n",
       "\n",
       "    .dataframe thead th {\n",
       "        text-align: right;\n",
       "    }\n",
       "</style>\n",
       "<table border=\"1\" class=\"dataframe\">\n",
       "  <thead>\n",
       "    <tr style=\"text-align: right;\">\n",
       "      <th></th>\n",
       "      <th>0</th>\n",
       "    </tr>\n",
       "  </thead>\n",
       "  <tbody>\n",
       "    <tr>\n",
       "      <th>site_id_very_low</th>\n",
       "      <td>0.412152</td>\n",
       "    </tr>\n",
       "    <tr>\n",
       "      <th>app_id_very_high</th>\n",
       "      <td>0.169250</td>\n",
       "    </tr>\n",
       "    <tr>\n",
       "      <th>site_id_very_high</th>\n",
       "      <td>0.076599</td>\n",
       "    </tr>\n",
       "    <tr>\n",
       "      <th>app_category_higher</th>\n",
       "      <td>0.065425</td>\n",
       "    </tr>\n",
       "    <tr>\n",
       "      <th>app_id_very_low</th>\n",
       "      <td>0.064816</td>\n",
       "    </tr>\n",
       "    <tr>\n",
       "      <th>C16_250</th>\n",
       "      <td>0.030497</td>\n",
       "    </tr>\n",
       "    <tr>\n",
       "      <th>C18_1</th>\n",
       "      <td>0.023923</td>\n",
       "    </tr>\n",
       "    <tr>\n",
       "      <th>device_model_very_high</th>\n",
       "      <td>0.019592</td>\n",
       "    </tr>\n",
       "    <tr>\n",
       "      <th>device_model_very_low</th>\n",
       "      <td>0.015078</td>\n",
       "    </tr>\n",
       "    <tr>\n",
       "      <th>device_model_lower</th>\n",
       "      <td>0.013589</td>\n",
       "    </tr>\n",
       "    <tr>\n",
       "      <th>site_domain_very_low</th>\n",
       "      <td>0.012971</td>\n",
       "    </tr>\n",
       "    <tr>\n",
       "      <th>site_category_higher</th>\n",
       "      <td>0.010905</td>\n",
       "    </tr>\n",
       "    <tr>\n",
       "      <th>site_id_higher</th>\n",
       "      <td>0.007015</td>\n",
       "    </tr>\n",
       "    <tr>\n",
       "      <th>device_conn_type_0</th>\n",
       "      <td>0.006602</td>\n",
       "    </tr>\n",
       "    <tr>\n",
       "      <th>banner_pos_0</th>\n",
       "      <td>0.005821</td>\n",
       "    </tr>\n",
       "    <tr>\n",
       "      <th>hour_19-21</th>\n",
       "      <td>0.005650</td>\n",
       "    </tr>\n",
       "    <tr>\n",
       "      <th>C18_2</th>\n",
       "      <td>0.005469</td>\n",
       "    </tr>\n",
       "    <tr>\n",
       "      <th>hour_17-19</th>\n",
       "      <td>0.004961</td>\n",
       "    </tr>\n",
       "    <tr>\n",
       "      <th>C18_3</th>\n",
       "      <td>0.004528</td>\n",
       "    </tr>\n",
       "    <tr>\n",
       "      <th>C16_36</th>\n",
       "      <td>0.004273</td>\n",
       "    </tr>\n",
       "    <tr>\n",
       "      <th>banner_pos_1</th>\n",
       "      <td>0.004052</td>\n",
       "    </tr>\n",
       "    <tr>\n",
       "      <th>device_ip_very_low</th>\n",
       "      <td>0.003351</td>\n",
       "    </tr>\n",
       "    <tr>\n",
       "      <th>weekday_3</th>\n",
       "      <td>0.003230</td>\n",
       "    </tr>\n",
       "    <tr>\n",
       "      <th>weekday_2</th>\n",
       "      <td>0.003228</td>\n",
       "    </tr>\n",
       "    <tr>\n",
       "      <th>device_ip_very_high</th>\n",
       "      <td>0.003199</td>\n",
       "    </tr>\n",
       "    <tr>\n",
       "      <th>app_domain_lower</th>\n",
       "      <td>0.003127</td>\n",
       "    </tr>\n",
       "    <tr>\n",
       "      <th>device_ip_mid</th>\n",
       "      <td>0.003048</td>\n",
       "    </tr>\n",
       "    <tr>\n",
       "      <th>hour_21-23</th>\n",
       "      <td>0.003019</td>\n",
       "    </tr>\n",
       "    <tr>\n",
       "      <th>weekday_1</th>\n",
       "      <td>0.002903</td>\n",
       "    </tr>\n",
       "    <tr>\n",
       "      <th>C18_0</th>\n",
       "      <td>0.002762</td>\n",
       "    </tr>\n",
       "    <tr>\n",
       "      <th>app_id_lower</th>\n",
       "      <td>0.002724</td>\n",
       "    </tr>\n",
       "    <tr>\n",
       "      <th>C16_50</th>\n",
       "      <td>0.002387</td>\n",
       "    </tr>\n",
       "    <tr>\n",
       "      <th>app_domain_very_high</th>\n",
       "      <td>0.002101</td>\n",
       "    </tr>\n",
       "    <tr>\n",
       "      <th>device_conn_type_2</th>\n",
       "      <td>0.001753</td>\n",
       "    </tr>\n",
       "  </tbody>\n",
       "</table>\n",
       "</div>"
      ],
      "text/plain": [
       "                               0\n",
       "site_id_very_low        0.412152\n",
       "app_id_very_high        0.169250\n",
       "site_id_very_high       0.076599\n",
       "app_category_higher     0.065425\n",
       "app_id_very_low         0.064816\n",
       "C16_250                 0.030497\n",
       "C18_1                   0.023923\n",
       "device_model_very_high  0.019592\n",
       "device_model_very_low   0.015078\n",
       "device_model_lower      0.013589\n",
       "site_domain_very_low    0.012971\n",
       "site_category_higher    0.010905\n",
       "site_id_higher          0.007015\n",
       "device_conn_type_0      0.006602\n",
       "banner_pos_0            0.005821\n",
       "hour_19-21              0.005650\n",
       "C18_2                   0.005469\n",
       "hour_17-19              0.004961\n",
       "C18_3                   0.004528\n",
       "C16_36                  0.004273\n",
       "banner_pos_1            0.004052\n",
       "device_ip_very_low      0.003351\n",
       "weekday_3               0.003230\n",
       "weekday_2               0.003228\n",
       "device_ip_very_high     0.003199\n",
       "app_domain_lower        0.003127\n",
       "device_ip_mid           0.003048\n",
       "hour_21-23              0.003019\n",
       "weekday_1               0.002903\n",
       "C18_0                   0.002762\n",
       "app_id_lower            0.002724\n",
       "C16_50                  0.002387\n",
       "app_domain_very_high    0.002101\n",
       "device_conn_type_2      0.001753"
      ]
     },
     "execution_count": 38,
     "metadata": {},
     "output_type": "execute_result"
    }
   ],
   "source": [
    "# 取前1/3的特征\n",
    "pre_X = pre_X[feature_importances.index[:int(len(feature_importances)/3)]]\n",
    "\n",
    "# 依据cv结果建模并拟合\n",
    "tree = grid_search.best_estimator_\n",
    "tree.fit(pre_X,pre_y)\n",
    "\n",
    "feature_importances = pd.DataFrame(tree.feature_importances_)\n",
    "feature_importances.index = pre_X_train.columns\n",
    "feature_importances = feature_importances.sort_values(0,ascending=False)\n",
    "feature_importances"
   ]
  },
  {
   "cell_type": "code",
   "execution_count": 39,
   "id": "819e18bb",
   "metadata": {},
   "outputs": [],
   "source": [
    "# 再删除特征，只取>0.005的特征来建模\n",
    "feature_len = len(feature_importances[feature_importances[feature_importances.columns[0]] > 0.005])\n",
    "\n",
    "y = train[['click']]\n",
    "X = train[feature_importances[:feature_len].index]\n",
    "test = test[feature_importances[:feature_len].index]"
   ]
  },
  {
   "cell_type": "code",
   "execution_count": 42,
   "id": "a3ef1b03",
   "metadata": {},
   "outputs": [
    {
     "name": "stdout",
     "output_type": "stream",
     "text": [
      "[06:40:57] WARNING: C:/Users/Administrator/workspace/xgboost-win64_release_1.5.1/src/learner.cc:1115: Starting in XGBoost 1.3.0, the default evaluation metric used with the objective 'binary:logistic' was changed from 'error' to 'logloss'. Explicitly set eval_metric if you'd like to restore the old behavior.\n",
      "Roc_auc_score:  51.803934255619744 %\n"
     ]
    },
    {
     "data": {
      "image/png": "[encoded data removed]",
      "text/plain": [
       "<Figure size 180x180 with 1 Axes>"
      ]
     },
     "metadata": {
      "needs_background": "light"
     },
     "output_type": "display_data"
    },
    {
     "name": "stderr",
     "output_type": "stream",
     "text": [
      "C:\\ProgramData\\Anaconda3\\lib\\site-packages\\numpy\\lib\\arraysetops.py:583: FutureWarning: elementwise comparison failed; returning scalar instead, but in the future will perform elementwise comparison\n",
      "  mask |= (ar1 == a)\n"
     ]
    }
   ],
   "source": [
    "from xgboost import XGBClassifier\n",
    "\n",
    "# 使用xgboost 建模，指定先前参数得到的节点深度限制使用xgboost 建模，指定先前调参得到的节点深度限制\n",
    "model = XGBClassifier(tree_method = 'gpu_hist', n_jobs=-1, n_estimators=500, max_depth=11,use_label_encoder=False)\n",
    "model.fit(X,y.values.ravel())\n",
    "y_pred = model.predict(X)\n",
    "print(\"Roc_auc_score: \",roc_auc_score(y,y_pred)*100,\"%\")\n",
    "\n",
    "# 输出 confusion matrix\n",
    "confmat = confusion_matrix(y_true=y, y_pred=y_pred, labels=[0, 1])\n",
    "\n",
    "fig, ax = plt.subplots(figsize=(2.5, 2.5))\n",
    "ax.matshow(confmat, cmap=plt.cm.Blues, alpha=0.3)\n",
    "for i in range(confmat.shape[0]):\n",
    "    for j in range(confmat.shape[1]):\n",
    "        ax.text(x=j, y=i, s=confmat[i, j], va='center', ha='center')\n",
    "\n",
    "plt.xlabel('Predicted label')\n",
    "plt.ylabel('True label')\n",
    "\n",
    "plt.tight_layout()\n",
    "plt.show()\n"
   ]
  },
  {
   "cell_type": "code",
   "execution_count": null,
   "id": "38ae635e",
   "metadata": {},
   "outputs": [],
   "source": [
    "#  get submit file\n",
    "submission = pd.read_csv(samplesubmision_file, compression='gzip', index_col='id')\n",
    "submission[submission.columns[0]] = model.predict_proba(test)[:,1]\n",
    "submission.to_csv('submission.csv')"
   ]
  }
 ],
 "metadata": {
  "kernelspec": {
   "display_name": "Python 3 (ipykernel)",
   "language": "python",
   "name": "python3"
  },
  "language_info": {
   "codemirror_mode": {
    "name": "ipython",
    "version": 3
   },
   "file_extension": ".py",
   "mimetype": "text/x-python",
   "name": "python",
   "nbconvert_exporter": "python",
   "pygments_lexer": "ipython3",
   "version": "3.9.7"
  }
 },
 "nbformat": 4,
 "nbformat_minor": 5
}
